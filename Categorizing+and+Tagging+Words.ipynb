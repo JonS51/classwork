{
 "cells": [
  {
   "cell_type": "markdown",
   "metadata": {},
   "source": [
    "# Chapter 5 Categorizing and Tagging Words\n",
    "## Jonathan Stewart"
   ]
  },
  {
   "cell_type": "markdown",
   "metadata": {},
   "source": [
    "### Section 1"
   ]
  },
  {
   "cell_type": "code",
   "execution_count": 3,
   "metadata": {
    "collapsed": false
   },
   "outputs": [],
   "source": [
    "import nltk\n",
    "\n"
   ]
  },
  {
   "cell_type": "code",
   "execution_count": 6,
   "metadata": {
    "collapsed": false
   },
   "outputs": [
    {
     "data": {
      "text/plain": [
       "[('I', 'PRP'),\n",
       " ('want', 'VBP'),\n",
       " ('to', 'TO'),\n",
       " ('color', 'VB'),\n",
       " ('the', 'DT'),\n",
       " ('book', 'NN'),\n",
       " ('with', 'IN'),\n",
       " ('the', 'DT'),\n",
       " ('color', 'NN'),\n",
       " ('purple', 'NN')]"
      ]
     },
     "execution_count": 6,
     "metadata": {},
     "output_type": "execute_result"
    }
   ],
   "source": [
    "text = nltk.word_tokenize(\"I want to color the book with the color purple\")\n",
    "\n",
    "nltk.pos_tag(text)\n"
   ]
  },
  {
   "cell_type": "markdown",
   "metadata": {},
   "source": [
    "[('I', 'PRP'),\n",
    " ('want', 'VBP'),\n",
    " ('to', 'TO'),\n",
    " ('color', 'VB'),\n",
    " ('the', 'DT'),\n",
    " ('book', 'NN'),\n",
    " ('with', 'IN'),\n",
    " ('the', 'DT'),\n",
    " ('color', 'NN'),\n",
    " ('purple', 'NN')]\n",
    " \n",
    " The POS-tagger got both forms of color correct."
   ]
  },
  {
   "cell_type": "markdown",
   "metadata": {},
   "source": [
    "## 2)\n",
    "\n",
    " Given the list of past participles produced by list(cfd2['VBN']), try to collect a list of all the word-tag pairs that immediately precede items in that list."
   ]
  },
  {
   "cell_type": "code",
   "execution_count": 10,
   "metadata": {
    "collapsed": false
   },
   "outputs": [
    {
     "name": "stdout",
     "output_type": "stream",
     "text": [
      "[('has', 'VBZ'), ('is', 'VBZ'), ('was', 'VBD'), ('were', 'VBD'), ('*-2', '-NONE-'), ('has', 'VBZ'), ('*-2', '-NONE-'), ('was', 'VBD'), ('temporarily', 'RB'), ('has', 'VBZ'), ('is', 'VBZ'), ('were', 'VBD'), ('has', 'VBZ'), ('has', 'VBZ'), ('highly', 'RB'), ('for', 'IN'), ('has', 'VBZ'), ('*-2', '-NONE-'), ('rates', 'NNS'), ('*-2', '-NONE-'), ('are', 'VBP'), ('*-2', '-NONE-'), ('have', 'VBP'), ('has', 'VBZ'), ('of', 'IN'), ('of', 'IN'), ('have', 'VBP'), ('*-2', '-NONE-'), ('had', 'VBD'), ('has', 'VBZ'), ('has', 'VBZ'), ('of', 'IN'), ('is', 'VBZ'), ('year', 'NN'), ('companies', 'NNS'), ('have', 'VBP'), ('other', 'JJ'), ('sharply', 'RB'), ('was', 'VBD'), ('greatly', 'RB'), (',', ','), ('galvanized', 'JJ'), ('workers', 'NNS'), ('and', 'CC'), (':', ':'), ('to', 'TO'), ('be', 'VB'), ('was', 'VBD'), ('has', 'VBZ'), ('be', 'VB'), ('are', 'VBP'), ('be', 'VB'), ('be', 'VB'), ('watches', 'NNS'), ('through', 'IN'), ('has', 'VBZ'), ('RULING', 'NN'), ('*-1', '-NONE-'), ('have', 'VBP'), ('poorly', 'RB'), ('has', 'VBZ'), ('*-1', '-NONE-'), ('be', 'VB'), ('very', 'RB'), ('had', 'VBD'), ('have', 'VBP'), ('has', 'VBZ'), ('still', 'RB'), ('temporarily', 'RB'), ('even', 'JJ'), ('get', 'VB'), ('be', 'VB'), ('broadly', 'RB'), ('has', 'VBZ'), ('has', 'VBZ'), ('remains', 'VBZ'), ('*-2', '-NONE-'), ('has', 'VBZ'), ('has', 'VBZ'), ('been', 'VBN'), ('has', 'VBZ'), ('also', 'RB'), ('previously', 'RB'), ('have', 'VBP'), ('*-1', '-NONE-'), ('be', 'VB'), ('have', 'VBP'), (\"n't\", 'RB'), ('prices', 'NNS'), ('*-1', '-NONE-'), ('initially', 'RB'), ('and', 'CC'), ('have', 'VB'), ('newly', 'RB'), ('the', 'DT'), ('be', 'VB'), ('Not', 'RB'), ('were', 'VBD'), ('was', 'VBD'), ('is', 'VBZ'), ('be', 'VB'), ('and', 'CC'), ('are', 'VBP'), ('be', 'VB'), ('is', 'VBZ'), ('had', 'VBD'), ('being', 'VBG'), ('recently', 'RB'), ('was', 'VBD'), ('funds', 'NNS'), ('be', 'VB'), ('have', 'VB'), ('been', 'VBN'), ('be', 'VB'), ('was', 'VBD'), ('is', 'VBZ'), ('Investors', 'NNS'), (\"n't\", 'RB'), ('accused', 'VBD'), ('lately', 'RB'), ('time', 'NN'), ('be', 'VB'), ('.', '.'), ('Western', 'JJ'), ('fraud', 'NN'), ('have', 'VBP'), ('had', 'VBD'), ('the', 'DT'), ('*', '-NONE-'), (\"n't\", 'RB'), ('emphasis', 'NN'), ('were', 'VBD'), ('*', '-NONE-'), ('and', 'CC'), ('of', 'IN'), ('sometimes', 'RB'), ('so', 'RB'), (',', ','), ('been', 'VBN'), ('have', 'VBP'), ('has', 'VBZ'), ('are', 'VBP'), (\"'s\", 'VBZ'), ('That', 'DT'), ('have', 'VB'), ('intimately', 'RB'), ('has', 'VBZ'), ('was', 'VBD'), (\"n't\", 'RB'), (\"'s\", 'POS'), ('cars', 'NNS'), ('is', 'VBZ'), ('being', 'VBG'), ('was', 'VBD'), ('has', 'VBZ'), ('advertisements', 'NNS'), ('*-1', '-NONE-'), ('were', 'VBD'), ('has', 'VBZ'), ('changing', 'VBG'), ('has', 'VBZ'), ('highly', 'RB'), ('forms', 'NNS'), ('has', 'VBZ'), ('*-1', '-NONE-'), ('is', 'VBZ'), ('also', 'RB'), ('became', 'VBD'), ('its', 'PRP$'), ('was', 'VBD'), (\"n't\", 'RB'), (\"'ve\", 'VBP'), ('was', 'VBD'), ('have', 'VBP'), ('are', 'VBP'), ('an', 'DT'), ('well', 'RB'), ('been', 'VBN'), ('losses', 'NNS'), ('has', 'VBZ'), (\"n't\", 'RB'), ('have', 'VBP'), ('had', 'VBD'), ('be', 'VB'), ('*-1', '-NONE-'), ('has', 'VBZ'), ('been', 'VBN'), ('most', 'JJS'), ('has', 'VBZ'), ('have', 'VB'), ('*-25', '-NONE-'), ('essentially', 'RB'), ('be', 'VB'), ('is', 'VBZ'), (\"n't\", 'RB'), ('have', 'VBP'), ('workers', 'NNS'), ('supercomputers', 'NNS'), ('has', 'VBZ'), ('has', 'VBZ'), ('been', 'VBN'), ('was', 'VBD'), (\"n't\", 'RB'), (',', ','), ('publicly', 'RB'), ('old', 'JJ'), ('was', 'VBD'), ('being', 'VBG'), ('has', 'VBZ'), ('be', 'VB'), ('are', 'VBP'), ('rapidly', 'RB'), ('really', 'RB'), ('an', 'DT'), ('ropes', 'NNS'), ('has', 'VBZ'), ('*RNR*-1', '-NONE-'), ('had', 'VBD'), ('of', 'IN'), ('being', 'VBG'), ('is', 'VBZ'), ('*-1', '-NONE-'), ('be', 'VB'), ('collections', 'NNS'), ('is', 'VBZ'), ('are', 'VBP'), ('being', 'VBG'), ('have', 'VBP'), ('measure', 'NN'), ('be', 'VB'), ('``', '``'), ('being', 'VBG'), ('were', 'VBD'), ('be', 'VB'), ('have', 'VBP'), ('recently', 'RB'), ('had', 'VBD'), ('amount', 'NN'), ('has', 'VBZ'), ('was', 'VBD'), ('been', 'VBN'), ('becomes', 'VBZ'), ('have', 'VBP'), (\"''\", \"''\"), ('unfairly', 'RB'), ('has', 'VBZ'), ('``', '``'), ('``', '``'), (\"n't\", 'RB'), ('have', 'VBP'), ('already', 'RB'), ('be', 'VB'), ('microphone', 'NN'), ('has', 'VBZ'), ('has', 'VBZ'), ('return', 'NN'), ('was', 'VBD'), ('were', 'VBD'), ('be', 'VB'), ('have', 'VBP'), ('was', 'VBD'), ('price', 'NN'), ('gradually', 'RB'), ('were', 'VBD'), ('be', 'VB'), ('privately', 'RB'), ('have', 'VBP'), ('be', 'VB'), ('viewpoint', 'NN'), ('sharply', 'RB'), ('is', 'VBZ'), ('already', 'RB'), ('be', 'VB'), ('the', 'DT'), (\"'ve\", 'VBP'), ('has', 'VBZ'), ('be', 'VB'), ('were', 'VBD'), ('has', 'VBZ'), ('Totally', 'RB'), ('be', 'VB'), ('was', 'VBD'), ('has', 'VBZ'), ('a', 'DT'), (',', ','), ('officially', 'RB'), ('data', 'NNS'), ('is', 'VBZ'), ('have', 'VBP'), ('already', 'RB'), ('help', 'VB'), ('poorly', 'RB'), ('*-1', '-NONE-'), ('had', 'VBD'), ('master', 'NN'), ('or', 'CC'), ('are', 'VBP'), ('less', 'RBR'), ('has', 'VBZ'), ('but', 'CC'), ('it', 'PRP'), ('has', 'VBZ'), ('high-yield', 'JJ'), ('is', 'VBZ'), ('be', 'VB'), ('have', 'VB'), (',', ','), ('is', 'VBZ'), ('become', 'VBN'), (',', ','), ('be', 'VB'), ('have', 'VBP'), (\"n't\", 'RB'), ('a', 'DT'), ('prosecutors', 'NNS'), ('was', 'VBD'), ('have', 'VBP'), ('play', 'NN'), ('be', 'VB'), ('debt', 'NN'), ('have', 'VB'), (',', ','), ('apparently', 'RB'), ('are', 'VBP'), ('have', 'VBP'), (\"'s\", 'POS'), ('was', 'VBD'), ('a', 'DT'), ('was', 'VBD'), ('longer', 'RBR'), ('sometimes', 'RB'), ('not', 'RB'), ('them', 'PRP'), ('poorly', 'RB'), ('were', 'VBD'), ('also', 'RB'), ('the', 'DT'), ('be', 'VB'), ('be', 'VB'), ('just', 'RB'), (\"n't\", 'RB'), ('.', '.'), ('been', 'VBN'), ('were', 'VBD'), ('be', 'VB'), ('has', 'VBZ'), (',', ','), ('never', 'RB'), ('head', 'NN'), ('partly', 'RB'), ('``', '``'), ('has', 'VBZ'), ('include', 'VB'), ('issue', 'NN'), ('inaccurately', 'RB'), ('have', 'VBP'), ('be', 'VB'), ('be', 'VB'), ('*', '-NONE-'), ('a', 'DT'), ('rule', 'NN'), ('since', 'IN'), ('have', 'VB'), ('were', 'VBD'), ('was', 'VBD'), ('have', 'VBP'), ('have', 'VB'), ('was', 'VBD'), ('be', 'VB'), (',', ','), ('is', 'VBZ'), ('often', 'RB'), (',', ','), ('*', '-NONE-'), ('a', 'DT'), ('has', 'VBZ'), ('actively', 'RB'), ('was', 'VBD'), ('two', 'CD'), ('fully', 'RB'), (',', ','), ('were', 'VBD'), ('have', 'VB'), ('to', 'TO'), ('very', 'RB'), ('be', 'VB'), ('is', 'VBZ'), (',', ','), ('The', 'DT'), ('funds', 'NNS'), (',', ','), ('still', 'RB'), ('``', '``'), ('was', 'VBD'), ('prices', 'NNS'), ('being', 'VBG'), ('are', 'VBP'), ('publicly', 'RB'), ('have', 'VBP'), ('Its', 'PRP$'), ('widely', 'RB'), ('are', 'VBP'), ('were', 'VBD'), ('edition', 'NN'), (',', ','), ('is', 'VBZ'), ('are', 'VBP'), ('not', 'RB'), ('correspondence', 'NN'), ('An', 'DT'), ('be', 'VB'), ('Solihull', 'NNP'), ('was', 'VBD'), ('be', 'VB'), ('vertically', 'RB'), ('.', '.'), ('has', 'VBZ'), ('has', 'VBZ'), ('are', 'VBP'), ('*-1', '-NONE-'), ('an', 'DT'), ('almost', 'RB'), ('fields', 'NNS'), ('Monticello', 'NNP'), ('has', 'VBZ'), ('has', 'VBZ'), ('be', 'VB'), ('have', 'VBP'), ('*-2', '-NONE-'), ('had', 'VBD'), (',', ','), ('was', 'VBD'), ('well', 'RB'), ('was', 'VBD'), ('was', 'VBD'), ('convertible', 'JJ'), ('be', 'VB'), ('was', 'VBD'), ('.', '.'), ('pharmaceuticals', 'NNS'), ('*', '-NONE-'), ('are', 'VBP'), ('a', 'DT'), ('has', 'VBZ'), ('been', 'VBN'), ('were', 'VBD'), ('the', 'DT'), ('a', 'DT'), ('ever', 'RB'), ('``', '``'), (\"n't\", 'RB'), ('be', 'VB'), ('the', 'DT'), ('Avenue', 'NNP'), ('was', 'VBD'), (\"'s\", 'POS'), ('The', 'DT'), ('relentlessly', 'RB'), ('funds', 'NNS'), ('*', '-NONE-'), ('were', 'VBD'), ('is', 'VBZ'), ('have', 'VBP'), ('are', 'VBP'), ('less', 'JJR'), ('stockpiles', 'NNS'), ('were', 'VBD'), ('*-3', '-NONE-'), ('was', 'VBD'), ('forecasts', 'NNS'), (',', ','), (\"'s\", 'VBZ'), ('had', 'VBD'), ('has', 'VBZ'), ('have', 'VBP'), ('have', 'VBP'), (',', ','), ('be', 'VB'), ('.', '.'), ('some', 'DT'), ('was', 'VBD'), ('the', 'DT'), ('were', 'VBD'), ('are', 'VBP'), ('been', 'VBN'), ('been', 'VBN'), ('is', 'VBZ'), ('usually', 'RB'), ('have', 'VB'), ('was', 'VBD'), ('highly', 'RB'), ('get', 'VB'), ('already', 'RB'), ('having', 'VBG'), ('was', 'VBD'), ('*-2', '-NONE-'), ('had', 'VBD'), ('been', 'VBN'), ('has', 'VBZ'), ('have', 'VB'), ('historically', 'RB'), ('were', 'VBD'), ('has', 'VBZ'), ('.', '.'), ('had', 'VBD'), ('has', 'VBZ'), ('be', 'VB'), ('was', 'VBD'), (\"n't\", 'RB'), ('are', 'VBP'), ('been', 'VBN'), ('been', 'VBN'), ('be', 'VB'), (\"n't\", 'RB'), ('have', 'VBP'), ('*-1', '-NONE-'), ('was', 'VBD'), ('has', 'VBZ'), ('*', '-NONE-'), ('INTERBANK', 'NN'), ('were', 'VBD'), ('been', 'VBN'), ('have', 'VBP'), ('be', 'VB'), ('introduced', 'VBD'), ('*-2', '-NONE-'), ('were', 'VBD'), ('have', 'VBP'), ('subskill', 'NN'), ('prerogatives', 'NNS'), ('*-2', '-NONE-'), ('have', 'VBP'), ('has', 'VBZ'), ('closely', 'RB'), ('the', 'DT'), ('be', 'VB'), ('were', 'VBD'), ('senior', 'JJ'), (',', ','), ('was', 'VBD'), ('contracts', 'NNS'), ('have', 'VBP'), ('be', 'VB'), ('*-1', '-NONE-'), ('are', 'VBP'), ('be', 'VB'), ('once', 'RB'), ('be', 'VB'), ('dormitory', 'NN'), ('be', 'VB'), ('been', 'VBN'), ('an', 'DT'), ('is', 'VBZ'), ('by', 'IN'), ('was', 'VBD'), ('be', 'VB'), ('is', 'VBZ'), ('have', 'VB'), ('is', 'VBZ'), ('be', 'VB'), ('company', 'NN'), ('has', 'VBZ'), ('1,000', 'CD'), ('have', 'VBP'), ('were', 'VBD'), ('225', 'CD'), ('ratings', 'NNS'), ('been', 'VBN'), (\"n't\", 'RB'), ('have', 'VBP'), ('financially', 'RB'), ('be', 'VB'), ('and', 'CC'), (',', ','), ('those', 'DT'), ('has', 'VBZ'), ('empire', 'NN'), ('been', 'VBN'), ('constantly', 'RB'), ('always', 'RB'), ('was', 'VBD'), ('been', 'VBN'), ('been', 'VBN'), ('was', 'VBD'), ('extremely', 'RB'), ('*', '-NONE-'), ('and', 'CC'), ('a', 'DT'), ('vehicles', 'NNS'), ('the', 'DT'), ('have', 'VBP'), ('was', 'VBD'), ('been', 'VBN'), ('have', 'VBP'), ('were', 'VBD'), ('was', 'VBD'), ('badly', 'RB'), ('has', 'VBZ'), ('group', 'NN'), ('been', 'VBN'), ('was', 'VBD'), ('is', 'VBZ'), ('be', 'VB'), ('had', 'VBD'), ('for', 'IN'), ('be', 'VB'), ('fully', 'RB'), ('was', 'VBD'), ('*-1', '-NONE-'), (\"n't\", 'RB'), ('simply', 'RB'), ('narrowly', 'RB'), ('has', 'VBZ'), ('the', 'DT'), ('has', 'VBZ'), ('have', 'VBP'), ('highly', 'RB'), ('has', 'VBZ'), ('is', 'VBZ'), ('has', 'VBZ'), ('been', 'VBN'), ('the', 'DT'), ('so', 'RB'), ('be', 'VB'), ('is', 'VBZ'), ('is', 'VBZ'), ('be', 'VB'), ('*', '-NONE-'), ('be', 'VB'), ('*-2', '-NONE-'), ('have', 'VBP'), ('is', 'VBZ'), ('easily', 'RB'), ('partially', 'RB'), ('being', 'VBG'), ('from', 'IN'), ('quarter', 'NN'), (',', ','), ('were', 'VBD'), ('are', 'VBP'), ('were', 'VBD'), ('has', 'VBZ'), ('were', 'VBD'), ('wines', 'NN'), ('was', 'VBD'), ('were', 'VBD'), ('superconductors', 'NNS'), ('the', 'DT'), ('being', 'VBG'), ('are', 'VBP'), ('publicity', 'NN'), ('was', 'VBD'), ('contests', 'NNS'), ('were', 'VBD'), ('be', 'VB'), ('economists', 'NNS'), ('are', 'VBP'), ('*T*-107', '-NONE-'), ('be', 'VB'), ('*-1', '-NONE-'), (',', ','), ('had', 'VBD'), ('been', 'VBN'), ('have', 'VBP'), ('has', 'VBZ'), ('continually', 'RB'), ('are', 'VBP'), ('recently', 'RB'), ('was', 'VBD'), ('have', 'VB'), ('have', 'VBP'), ('was', 'VBD'), ('Documents', 'NNS'), ('have', 'VBP'), ('plus', 'CC'), ('investors', 'NNS'), ('is', 'VBZ'), ('be', 'VB'), ('on', 'IN'), ('be', 'VB'), ('heavily', 'RB'), ('are', 'VBP'), ('have', 'VBP'), ('ever', 'RB'), ('study', 'NN'), ('is', 'VBZ'), ('easily', 'RB'), ('be', 'VB'), ('are', 'VBP'), ('have', 'VBP'), (\"n't\", 'RB'), (',', ',')]\n"
     ]
    }
   ],
   "source": [
    "import nltk\n",
    "wsj = nltk.corpus.treebank.tagged_words()\n",
    "cfd2 = nltk.ConditionalFreqDist((tag, word) for (word, tag) in wsj)\n",
    "participles = list(cfd2['VBN'])\n",
    "prior_list = [] # list to hold the word-tag pairs that immediately precede items in that list\n",
    "for w in participles: # for each word in the list\n",
    "    idx1=wsj.index((w, 'VBN'))  # find the integer location of the word/tag tuple in the corpus\n",
    "    prior_wt = wsj[idx1-1] #retrieve the prior word by replacing ?? with the index of the prior word/tag pair\n",
    "    prior_list.append(prior_wt)\n",
    "    # append to the word/tag pair to the list declared above\n",
    "print(prior_list)"
   ]
  },
  {
   "cell_type": "markdown",
   "metadata": {},
   "source": [
    " The above succeeded in finding the preceding word-tag pairs to every word tagged as 'VBN'"
   ]
  },
  {
   "cell_type": "markdown",
   "metadata": {},
   "source": [
    "## 3) Mapping Words to Properties Using Python Dictionaries"
   ]
  },
  {
   "cell_type": "code",
   "execution_count": 15,
   "metadata": {
    "collapsed": false
   },
   "outputs": [
    {
     "name": "stdout",
     "output_type": "stream",
     "text": [
      "{'to': 'TO', 'with': 'IN', 'the': 'DT', 'book': 'NN', 'purple': 'NN', 'color': 'VB', 'I': 'PRP', 'want': 'VBP'}\n"
     ]
    }
   ],
   "source": [
    "## 3) Mapping Words to Properties Using Python Dictionaries\n",
    "d1 = {}\n",
    "d1['I'] = 'PRP'\n",
    "d1['want'] = 'VBP'\n",
    "d1['to'] = 'TO'\n",
    "d1['color'] = 'VB'\n",
    "\n",
    "d2 = {}\n",
    "d2['color'] = 'VB'\n",
    "d2['the'] = 'DT'\n",
    "d2['book'] = 'NN'\n",
    "d2['with'] = 'IN'\n",
    "d2['purple'] = 'NN'\n",
    "\n",
    "d1.update(d2)\n",
    "\n",
    "print(d1)"
   ]
  },
  {
   "cell_type": "markdown",
   "metadata": {},
   "source": [
    "The d1.update(d2) added all key value pairs in d2 to d1, if they were not already present in d1. This is an easy way to update dictionaries with key value pairs. If there is more than one dictionary being generated, this ensures that new key-value pairs are added."
   ]
  },
  {
   "cell_type": "markdown",
   "metadata": {},
   "source": [
    "## 4) Automatic Tagging\n",
    "\n",
    "Come up with at least two patterns to improve the performance of the regular expression tagger presented in this chapter (and duplicated below). "
   ]
  },
  {
   "cell_type": "code",
   "execution_count": 18,
   "metadata": {
    "collapsed": false
   },
   "outputs": [],
   "source": [
    "patterns = [\n",
    "     (r'.*ing$', 'VBG'),               # gerunds\n",
    "     (r'.*ed$', 'VBD'),                # simple past\n",
    "     (r'.*es$', 'VBZ'),                # 3rd singular present\n",
    "     (r'.*ould$', 'MD'),               # modals\n",
    "     (r'.*\\'s$', 'NN$'),               # possessive nouns\n",
    "     (r'pre*.$', 'JJ'),                # adjectives\n",
    "     (r'.*ly$', 'RB'),                        # adverb\n",
    "     (r'.*s$', 'NNS'),                 # plural nouns\n",
    "     (r'^-?[0-9]+(.[0-9]+)?$', 'CD'),  # cardinal numbers\n",
    "     (r'.*', 'NN')                     # nouns (default)\n",
    "]\n",
    "\n",
    "regexp_tagger = nltk.RegexpTagger(patterns)\n"
   ]
  },
  {
   "cell_type": "markdown",
   "metadata": {},
   "source": [
    "I added two patterns. The first is words that begin with 'pre'. While there are a few words that begin with 'pre' that are not adjectives, such as 'pretend' or 'preen', most words, such as 'preexisting' or 'preceding' are adjectives. The second one I added was classifying words that end in 'ly' as adverbs. There are a few exceptions, such as 'lilly', but overall most words, such as 'quickly' or 'silently' tend to be adverbs."
   ]
  },
  {
   "cell_type": "markdown",
   "metadata": {},
   "source": [
    "## Section 5 - N-Gram Tagging\n",
    " \n",
    "    Exercise: Train a unigram tagger and run it on some new text. Observe that some words are not assigned a tag. Why not?\n",
    "\n"
   ]
  },
  {
   "cell_type": "code",
   "execution_count": 26,
   "metadata": {
    "collapsed": false
   },
   "outputs": [
    {
     "name": "stdout",
     "output_type": "stream",
     "text": [
      "t1 evaluation:  0.8118209907305891\n"
     ]
    }
   ],
   "source": [
    "from nltk.corpus import brown\n",
    "\n",
    "brown_tagged_sents = brown.tagged_sents(categories='news')\n",
    "brown_sents = brown.sents(categories='news')\n",
    "size = int(len(brown_tagged_sents) * 0.9)\n",
    "train_sents = brown_tagged_sents[:size]\n",
    "test_sents = brown_tagged_sents[size:]\n",
    "\n",
    "#t0 = nltk.DefaultTagger('NN')\n",
    "t1 = nltk.UnigramTagger(train_sents)\n",
    "print('t1 evaluation: ', t1.evaluate(test_sents))\n",
    "#t1.tag(brown_tagged_sents[size:])"
   ]
  },
  {
   "cell_type": "markdown",
   "metadata": {},
   "source": [
    "Some of the words do not have tags because they do not exist in the trained dataset. Since this is a unigram model, there are no transition probabilities that require word pairs to exist in the data, however if that word is not present, then that 'state' is never created during the set up of the training phase, and all probabilities for that word will be zero."
   ]
  },
  {
   "cell_type": "markdown",
   "metadata": {},
   "source": [
    "Your Turn: Extend the example below by defining a TrigramTagger called t3, which backs off to t2."
   ]
  },
  {
   "cell_type": "code",
   "execution_count": 20,
   "metadata": {
    "collapsed": false
   },
   "outputs": [
    {
     "name": "stdout",
     "output_type": "stream",
     "text": [
      "t3 evaluation:  0.8436160669789694\n",
      "t2 evaluation:  0.84570915977275\n",
      "t1 evaluation:  0.835841722316356\n"
     ]
    }
   ],
   "source": [
    "from nltk.corpus import brown\n",
    "\n",
    "brown_tagged_sents = brown.tagged_sents(categories='news')\n",
    "brown_sents = brown.sents(categories='news')\n",
    "size = int(len(brown_tagged_sents) * 0.9)\n",
    "train_sents = brown_tagged_sents[:size]\n",
    "test_sents = brown_tagged_sents[size:]\n",
    "\n",
    "t0 = nltk.DefaultTagger('NN')\n",
    "t1 = nltk.UnigramTagger(train_sents, backoff=t0)\n",
    "t2 = nltk.BigramTagger(train_sents, backoff=t1)\n",
    "t3 = nltk.TrigramTagger(train_sents, backoff = t2)\n",
    "print('t3 evaluation: ', t3.evaluate(test_sents))\n",
    "print('t2 evaluation: ', t2.evaluate(test_sents))\n",
    "print('t1 evaluation: ', t1.evaluate(test_sents))"
   ]
  },
  {
   "cell_type": "markdown",
   "metadata": {},
   "source": [
    "T3 did slightly worse in comparison to t2, but better than t1. Backoff helps with keeping models small. for every N states/words, there needs to be a n^3 state matrix in the case of a trigram model, versus an n^2 for a bigram modl. So, if a trigram and bigram model give the same tag, the bigram tag is used. "
   ]
  },
  {
   "cell_type": "markdown",
   "metadata": {},
   "source": [
    "## Section 6 - Transformation-Based Tagging\n",
    "\n",
    "Run the Brill Tagger demo using the code below. Select 5 of the useful rules and rewrite them using an English sentence. For example, if the rule is NN->VB if Pos:TO@[-1] the related sentence would be something like, change a noun to a verb if the preceding word is tagged TO."
   ]
  },
  {
   "cell_type": "code",
   "execution_count": 27,
   "metadata": {
    "collapsed": false
   },
   "outputs": [
    {
     "name": "stdout",
     "output_type": "stream",
     "text": [
      "Loading tagged data from treebank... \n",
      "Read testing data (200 sents/5251 wds)\n",
      "Read training data (800 sents/19933 wds)\n",
      "Read baseline data (800 sents/19933 wds) [reused the training set]\n",
      "Trained baseline tagger\n",
      "    Accuracy on test set: 0.8355\n",
      "Training tbl tagger...\n",
      "TBL train (fast) (seqs: 800; tokens: 19933; tpls: 24; min score: 3; min acc: None)\n",
      "Finding initial useful rules...\n",
      "    Found 12772 useful rules.\n",
      "\n",
      "           B      |\n",
      "   S   F   r   O  |        Score = Fixed - Broken\n",
      "   c   i   o   t  |  R     Fixed = num tags changed incorrect -> correct\n",
      "   o   x   k   h  |  u     Broken = num tags changed correct -> incorrect\n",
      "   r   e   e   e  |  l     Other = num tags changed incorrect -> incorrect\n",
      "   e   d   n   r  |  e\n",
      "------------------+-------------------------------------------------------\n",
      "  23  23   0   0  | POS->VBZ if Pos:PRP@[-2,-1]\n",
      "  16  17   1   0  | NN->VB if Pos:-NONE-@[-2] & Pos:TO@[-1]\n",
      "  14  15   1   0  | VBD->VBN if Pos:VBZ@[-1]\n",
      "  12  12   0   0  | VBP->VB if Pos:MD@[-2,-1]\n",
      "  11  11   0   0  | VBD->VBN if Pos:VBD@[-1]\n",
      "  10  10   0   0  | VB->VBP if Pos:PRP@[-1]\n",
      "   9   9   0   1  | VB->NN if Pos:DT@[-1]\n",
      "   9   9   0   0  | VBD->VBN if Pos:VBP@[-2,-1]\n",
      "   9  15   6   0  | IN->WDT if Pos:NNS@[-1] & Pos:-NONE-@[1]\n",
      "   7   7   0   1  | VB->VBP if Pos:NNS@[-1]\n",
      "   7   7   0   0  | VBP->VB if Pos:TO@[-1]\n",
      "   7   8   1   0  | IN->RB if Word:as@[2]\n",
      "   6   6   0   0  | NN->VB if Pos:MD@[-1]\n",
      "   6   6   0   0  | WDT->IN if Pos:VBG@[2]\n",
      "   6   7   1   2  | VBD->VBN if Pos:VB@[-2,-1]\n",
      "   6   6   0   0  | IN->WDT if Pos:-NONE-@[1] & Pos:VBZ@[2]\n",
      "   5   5   0   0  | POS->VBZ if Pos:-NONE-@[-1]\n",
      "   5   6   1   0  | VBN->VBD if Pos:PRP@[-1]\n",
      "   5   6   1   3  | VB->NN if Pos:JJ@[-2,-1]\n",
      "   5   5   0   1  | IN->WDT if Pos:-NONE-@[1] & Pos:VBD@[2]\n",
      "   4   4   0   0  | POS->VBZ if Pos:``@[-2]\n",
      "   4   4   0   0  | VBP->VB if Pos:VBD@[-2,-1]\n",
      "   4   6   2   3  | RP->RB if Pos:CD@[1,2]\n",
      "   4   4   0   0  | RB->JJ if Pos:DT@[-1] & Pos:NN@[1]\n",
      "   4   4   0   0  | NN->VBP if Pos:NNS@[-2] & Pos:RB@[-1]\n",
      "   4   4   0   0  | IN->WDT if Pos:-NONE-@[1] & Pos:MD@[2]\n",
      "   4   4   0   0  | JJS->RBS if Word:most@[0] & Word:the@[-1] & Pos:DT@[-1]\n",
      "   3   3   0   0  | VB->NN if Pos:POS@[-1]\n",
      "   3   3   0   0  | VBD->VBN if Pos:VBN@[-1]\n",
      "   3   4   1   0  | VBN->VB if Pos:TO@[-1]\n",
      "   3   4   1   1  | IN->RB if Pos:.@[1]\n",
      "   3   3   0   0  | PRP$->PRP if Pos:TO@[1]\n",
      "   3   3   0   0  | RBR->JJR if Pos:NN@[1]\n",
      "   3   3   0   0  | NN->VBP if Pos:NNS@[-1] & Pos:DT@[1]\n",
      "   3   3   0   0  | VBN->VBD if Pos:NNP@[-1] & Pos:DT@[1]\n",
      "   3   8   5   0  | VBD->VBN if Word:*@[1]\n",
      "   3   3   0   0  | VBP->VB if Word:n't@[-2,-1]\n",
      "Trained tbl tagger in 3.05 seconds\n",
      "    Accuracy on test set: 0.8579\n",
      "Tagging the test data\n"
     ]
    }
   ],
   "source": [
    "from nltk.tbl import demo as brill_tagger\n",
    "brill_tagger.demo()"
   ]
  },
  {
   "cell_type": "markdown",
   "metadata": {},
   "source": [
    "RB->JJ if Pos:DT@[-1] & Pos:NN@[1] - Change the adverb to a adjective if the word preceding the word being taggged is a determiner and the word following it is a singular or mass noun. \\\\\n",
    "\n",
    "NN->VBP if Pos:NNS@[-2] & Pos:RB@[-1]  - Change the singular or plural noun to a present verb if the word two words behind it is a plural noun and the word immediately preceding it is an adjective. \\\\\n",
    "\n",
    "IN->WDT if Pos:-NONE-@[1] & Pos:MD@[2] - Change the preposition to a determ if there is no word after the word and the word two words after that is a modal word (can, should, etc.) \\\\\n",
    "\n",
    "JJS->RBS if Word:most@[0] & Word:the@[-1] & Pos:DT@[-1] - Change the superlative adjective tag to a superlative adverb if the word is most, and the word preceding is is 'the', and the word that follows it is coded as a determiner tag. \\\\\n",
    "\n",
    "VB->NN if Pos:POS@[-1] - change the word tagged as a verb to a noun if the word preceding it is tagged as a possessive ending. "
   ]
  },
  {
   "cell_type": "code",
   "execution_count": null,
   "metadata": {
    "collapsed": true
   },
   "outputs": [],
   "source": []
  }
 ],
 "metadata": {
  "anaconda-cloud": {},
  "kernelspec": {
   "display_name": "Python [conda root]",
   "language": "python",
   "name": "conda-root-py"
  },
  "language_info": {
   "codemirror_mode": {
    "name": "ipython",
    "version": 3
   },
   "file_extension": ".py",
   "mimetype": "text/x-python",
   "name": "python",
   "nbconvert_exporter": "python",
   "pygments_lexer": "ipython3",
   "version": "3.5.2"
  }
 },
 "nbformat": 4,
 "nbformat_minor": 1
}
